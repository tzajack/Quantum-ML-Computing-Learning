{
 "cells": [
  {
   "cell_type": "markdown",
   "id": "e29cbe38",
   "metadata": {},
   "source": [
    "# Fit any function with single qubit\n",
    "\n",
    "## 1. import packages\n",
    "\n",
    "Noted that backend should be set to 'state_vector'"
   ]
  },
  {
   "cell_type": "code",
   "execution_count": 1,
   "id": "0d370920",
   "metadata": {},
   "outputs": [],
   "source": [
    "import os\n",
    "os.environ['PROTOCOL_BUFFERS_PYTHON_IMPLEMENTATION'] = 'python'"
   ]
  },
  {
   "cell_type": "code",
   "execution_count": 2,
   "id": "88f2b4a4",
   "metadata": {},
   "outputs": [
    {
     "name": "stderr",
     "output_type": "stream",
     "text": [
      "C:\\Users\\ThinkPad\\AppData\\Roaming\\Python\\Python39\\site-packages\\urllib3\\util\\selectors.py:14: DeprecationWarning: Using or importing the ABCs from 'collections' instead of from 'collections.abc' is deprecated since Python 3.3, and in 3.10 it will stop working\n",
      "  from collections import namedtuple, Mapping\n",
      "C:\\Users\\ThinkPad\\AppData\\Roaming\\Python\\Python39\\site-packages\\urllib3\\_collections.py:2: DeprecationWarning: Using or importing the ABCs from 'collections' instead of from 'collections.abc' is deprecated since Python 3.3, and in 3.10 it will stop working\n",
      "  from collections import Mapping, MutableMapping\n",
      "C:\\Users\\ThinkPad\\AppData\\Roaming\\Python\\Python39\\site-packages\\openfermion\\hamiltonians\\hartree_fock.py:11: DeprecationWarning: Please use `OptimizeResult` from the `scipy.optimize` namespace, the `scipy.optimize.optimize` namespace is deprecated.\n",
      "  from scipy.optimize.optimize import OptimizeResult\n",
      "C:\\Users\\ThinkPad\\AppData\\Roaming\\Python\\Python39\\site-packages\\paddle\\tensor\\creation.py:125: DeprecationWarning: `np.object` is a deprecated alias for the builtin `object`. To silence this warning, use `object` by itself. Doing this will not modify any behavior and is safe. \n",
      "Deprecated in NumPy 1.20; for more details and guidance: https://numpy.org/devdocs/release/1.20.0-notes.html#deprecations\n",
      "  if data.dtype == np.object:\n"
     ]
    }
   ],
   "source": [
    "import paddle\n",
    "import numpy as np\n",
    "import paddle_quantum\n",
    "from paddle_quantum.ansatz import Circuit\n",
    "from paddle_quantum.hamiltonian import Hamiltonian\n",
    "from paddle_quantum.loss import ExpecVal\n",
    "import matplotlib.pyplot as plt\n",
    "import matplotlib\n",
    "\n",
    "paddle_quantum.set_backend(\"state_vector\")"
   ]
  },
  {
   "cell_type": "markdown",
   "id": "fa1e13b8",
   "metadata": {},
   "source": [
    "# 2. Some theory \n",
    "\n",
    "We want our ciruit be able to fit a group of data $\\{x_i,f(x_i)\\}$.\n",
    "\n",
    "For each $x_i$, we construct a unitary gate:\n",
    "\n",
    "$  U_ {\\theta ,\\phi ,L}^ {WZW}  (x_i)= R_ {Y}  (  \\theta _ {0}  )  R_ {Z}  ( \\phi _ {0}  )  \\sum _ {j=1}^ {L}  R_ {Z}  (x_i) R_ {Y}  (  \\theta _ {j})R_{Z}  (  \\phi _ {j}  ) $\n",
    "\n",
    "where $\\theta$ and $\\phi$ are parameters to be trained, $L$ is the depth of the circuit .\n",
    "\n",
    "Let depth = 2, the circuit looks like:\n",
    "\n",
    "![](https://github.com/tzajack/QuantumLearning/blob/main/SingleQubitQNN/appendix/single1.PNG?raw=true)\n",
    "\n",
    "The expectation $\\langle 0 | U_ {\\theta ,\\phi ,L}^ {WZW}  (x_i) | 0 \\rangle$ is the Fourier series $a_0+\\Sigma^{L}_{j=1}(a_j\\cos(nx) + b_j \\sin(nx))$ so it can fit any $f:[-\\pi,\\pi]\\rightarrow [-1,1]$ "
   ]
  },
  {
   "cell_type": "code",
   "execution_count": 3,
   "id": "598c95b0",
   "metadata": {},
   "outputs": [],
   "source": [
    "def U_WZW(train_block, w_theta, x):\n",
    "    cir = Circuit(1)\n",
    "    #Add part of the circuit equivlant to the summation part \n",
    "    for i in range(train_block):\n",
    "        cir.rz(0, param=w_theta[i][1])\n",
    "        cir.ry(0, param=w_theta[i][0])\n",
    "        cir.rz(0, param=x) \n",
    "    #Add the first Ry,Rz\n",
    "    cir.rz(0, param=w_theta[-1][1])\n",
    "    cir.ry(0, param=w_theta[-1][0])\n",
    "    return cir"
   ]
  },
  {
   "cell_type": "markdown",
   "id": "22ba6724",
   "metadata": {},
   "source": [
    "## 3. Model define and train \n",
    "\n",
    "As ususal, we use Pauli $\\langle Z \\rangle$ for observation.\n",
    "\n",
    "We add a scaling coefficient and bias to be train so the range of our fit function is wider.\n",
    "\n",
    "The final output is $\\hat{y} = coeff\\langle Z \\rangle+bias$"
   ]
  },
  {
   "cell_type": "code",
   "execution_count": 4,
   "id": "f27120f3",
   "metadata": {},
   "outputs": [],
   "source": [
    "class QNN(paddle.nn.Layer):\n",
    "    def __init__(self, \n",
    "                 train_block,          \n",
    "                 SEED=0,\n",
    "                 dtype='float64'):\n",
    "        super(QNN, self).__init__()\n",
    "        self.train_block = train_block\n",
    "        paddle.seed(SEED)\n",
    "        self.coeff  = self.create_parameter(\n",
    "            shape=[1],\n",
    "            default_initializer=paddle.nn.initializer.Normal(std=0.01),\n",
    "            dtype='float64',\n",
    "            is_bias=False)\n",
    "        self.bias = self.create_parameter(\n",
    "            shape=[1],\n",
    "            default_initializer=paddle.nn.initializer.Normal(std=0.01),\n",
    "            dtype='float64',\n",
    "            is_bias=False)\n",
    "        self.w_theta = self.create_parameter(\n",
    "            shape=[(train_block+1), 2],\n",
    "            default_initializer=paddle.nn.initializer.Uniform(0.0, 2*np.pi),\n",
    "            dtype=dtype,\n",
    "            is_bias=False)\n",
    "\n",
    "\n",
    "    def forward(self, x):\n",
    "        predict = []\n",
    "        H = Hamiltonian([(1.0, \"z0\")])\n",
    "        out_func = ExpecVal(H)\n",
    "        x = paddle.to_tensor(x, dtype='float64')\n",
    "        if len(x.shape) == 1:  \n",
    "            x = x.reshape((-1, 1))\n",
    "        for i in range(x.shape[0]):\n",
    "            cir = U_WZW(self.train_block, self.w_theta, x[i])\n",
    "            out_state = cir()\n",
    "            out_val = out_func(out_state)*self.coeff + self.bias\n",
    "            predict.append(out_val)\n",
    "        \n",
    "        return paddle.concat(predict).reshape((-1,)), cir"
   ]
  },
  {
   "cell_type": "markdown",
   "id": "17761a4e",
   "metadata": {},
   "source": [
    "Usual ML training function "
   ]
  },
  {
   "cell_type": "code",
   "execution_count": 5,
   "id": "1fb2e934",
   "metadata": {},
   "outputs": [],
   "source": [
    "def train_qnn(x, y, train_block, LR , Epoch,SEED, BATCHSIZE):\n",
    "    model = QNN(train_block, SEED)\n",
    "    opt = paddle.optimizer.Adam(learning_rate=LR, parameters=model.parameters())\n",
    "    loss_list = []\n",
    "    x = paddle.to_tensor(x, dtype='float64')\n",
    "    y = paddle.to_tensor(y, dtype='float64')\n",
    "    for ep in range(1, Epoch + 1):\n",
    "        for itr in range(len(x) // BATCHSIZE):\n",
    "            l = itr*BATCHSIZE\n",
    "            r = min( (itr + 1) * BATCHSIZE , len(x) )\n",
    "            x_batch = x[l:r]\n",
    "            y_batch = y[l:r]\n",
    "            predict, cir = model(x_batch)\n",
    "            avg_loss = paddle.mean((predict - y_batch) ** 2)\n",
    "            loss_list.append(avg_loss.numpy())\n",
    "            avg_loss.backward()\n",
    "            opt.minimize(avg_loss)\n",
    "            opt.clear_grad()\n",
    "            \n",
    "        print(\"qnn:epoch:\", ep, \" train  loss:\", \"%.5f\" % avg_loss.numpy())\n",
    "\n",
    "\n",
    "    return model, loss_list"
   ]
  },
  {
   "cell_type": "markdown",
   "id": "51dadf84",
   "metadata": {},
   "source": [
    "## 4. Test the model\n",
    "\n",
    "We choose $f(x) = x^2,\\sin x,e^x$ as examples\n",
    "\n",
    "We generate $100$ test and train data points over $[-1,1]$\n"
   ]
  },
  {
   "cell_type": "code",
   "execution_count": 6,
   "id": "f54a2b63",
   "metadata": {},
   "outputs": [],
   "source": [
    "def target_func(x):\n",
    "    return x**2\n",
    "\n",
    "\n",
    "def get_data():\n",
    "    x_plot = np.arange(-1, 1, 5/1000)\n",
    "    y_plot = target_func(x_plot)\n",
    "\n",
    "    np.random.seed(0)\n",
    "    x_all = np.random.uniform(-1, 1, 200)\n",
    "\n",
    "    y_all = target_func(x_all)\n",
    "\n",
    "    x_train, y_train = x_all[:100], y_all[:100]\n",
    "    x_test,y_test = x_all[100:], y_all[100:]\n",
    "\n",
    "    return x_train, y_train,x_test,y_test, x_plot, y_plot\n",
    "\n",
    "\n",
    "x_train, y_train, x_test,y_test,x_plot, y_plot = get_data()"
   ]
  },
  {
   "cell_type": "markdown",
   "id": "ec6062bb",
   "metadata": {},
   "source": [
    "Fix the depth of the circuit to be $10$\n",
    "\n",
    "Try $f(x)=x^2$ first"
   ]
  },
  {
   "cell_type": "code",
   "execution_count": 7,
   "id": "9ad35ec2",
   "metadata": {},
   "outputs": [
    {
     "name": "stderr",
     "output_type": "stream",
     "text": [
      "C:\\Users\\ThinkPad\\AppData\\Roaming\\Python\\Python39\\site-packages\\paddle\\fluid\\framework.py:1104: DeprecationWarning: `np.bool` is a deprecated alias for the builtin `bool`. To silence this warning, use `bool` by itself. Doing this will not modify any behavior and is safe. If you specifically wanted the numpy scalar type, use `np.bool_` here.\n",
      "Deprecated in NumPy 1.20; for more details and guidance: https://numpy.org/devdocs/release/1.20.0-notes.html#deprecations\n",
      "  elif dtype == np.bool:\n",
      "C:\\Users\\ThinkPad\\AppData\\Roaming\\Python\\Python39\\site-packages\\paddle\\fluid\\dygraph\\math_op_patch.py:276: UserWarning: The dtype of left and right variables are not the same, left dtype is paddle.float32, but right dtype is paddle.float64, the right dtype will convert to paddle.float32\n",
      "  warnings.warn(\n"
     ]
    },
    {
     "name": "stdout",
     "output_type": "stream",
     "text": [
      "qnn:epoch: 1  train  loss: 0.09176\n",
      "qnn:epoch: 2  train  loss: 0.02994\n",
      "qnn:epoch: 3  train  loss: 0.01711\n",
      "qnn:epoch: 4  train  loss: 0.01239\n",
      "qnn:epoch: 5  train  loss: 0.00147\n",
      "qnn:epoch: 6  train  loss: 0.00537\n",
      "qnn:epoch: 7  train  loss: 0.00118\n",
      "qnn:epoch: 8  train  loss: 0.00296\n",
      "qnn:epoch: 9  train  loss: 0.00146\n",
      "qnn:epoch: 10  train  loss: 0.00073\n"
     ]
    },
    {
     "data": {
      "image/png": "[encoded data removed]",
      "text/plain": [
       "<Figure size 432x288 with 1 Axes>"
      ]
     },
     "metadata": {
      "needs_background": "light"
     },
     "output_type": "display_data"
    }
   ],
   "source": [
    "def target_func(x):\n",
    "    return x**2\n",
    "x_train, y_train, x_test,y_test,x_plot, y_plot = get_data()\n",
    "SEED = 2\n",
    "Epoch = 10\n",
    "LR = 0.1\n",
    "train_block = 10\n",
    "bs = 16\n",
    "model, loss_list = train_qnn(x_train, y_train, train_block=train_block, LR=LR, Epoch=Epoch, SEED=SEED,BATCHSIZE=bs)\n",
    "predict = model(x_test)\n",
    "plt.plot(x_plot, y_plot, color=\"r\", ls=\"--\", lw=2.5, label=\"Target function\")\n",
    "plt.scatter(\n",
    "        x_test,\n",
    "        predict[0].numpy(),\n",
    "        s=40,\n",
    "        marker=\"^\",\n",
    "        facecolor=\"white\",\n",
    "        color=\"b\",\n",
    "        label=\"QNN\",\n",
    "    )\n",
    "plt.xlabel(r\"$x$\")\n",
    "plt.ylabel(r\"$f(x)$\")\n",
    "plt.xticks(fontsize=10)\n",
    "plt.yticks(fontsize=10)\n",
    "plt.legend()\n",
    "plt.show()"
   ]
  },
  {
   "cell_type": "markdown",
   "id": "30476e0b",
   "metadata": {},
   "source": [
    "Then $f(x)=\\sin x$"
   ]
  },
  {
   "cell_type": "code",
   "execution_count": 8,
   "id": "c8d799d6",
   "metadata": {},
   "outputs": [
    {
     "name": "stderr",
     "output_type": "stream",
     "text": [
      "C:\\Users\\ThinkPad\\AppData\\Roaming\\Python\\Python39\\site-packages\\paddle\\tensor\\creation.py:125: DeprecationWarning: `np.object` is a deprecated alias for the builtin `object`. To silence this warning, use `object` by itself. Doing this will not modify any behavior and is safe. \n",
      "Deprecated in NumPy 1.20; for more details and guidance: https://numpy.org/devdocs/release/1.20.0-notes.html#deprecations\n",
      "  if data.dtype == np.object:\n",
      "C:\\Users\\ThinkPad\\AppData\\Roaming\\Python\\Python39\\site-packages\\paddle\\fluid\\framework.py:1104: DeprecationWarning: `np.bool` is a deprecated alias for the builtin `bool`. To silence this warning, use `bool` by itself. Doing this will not modify any behavior and is safe. If you specifically wanted the numpy scalar type, use `np.bool_` here.\n",
      "Deprecated in NumPy 1.20; for more details and guidance: https://numpy.org/devdocs/release/1.20.0-notes.html#deprecations\n",
      "  elif dtype == np.bool:\n",
      "C:\\Users\\ThinkPad\\AppData\\Roaming\\Python\\Python39\\site-packages\\paddle\\fluid\\dygraph\\math_op_patch.py:276: UserWarning: The dtype of left and right variables are not the same, left dtype is paddle.float32, but right dtype is paddle.float64, the right dtype will convert to paddle.float32\n",
      "  warnings.warn(\n"
     ]
    },
    {
     "name": "stdout",
     "output_type": "stream",
     "text": [
      "qnn:epoch: 1  train  loss: 0.04530\n",
      "qnn:epoch: 2  train  loss: 0.01109\n",
      "qnn:epoch: 3  train  loss: 0.00205\n",
      "qnn:epoch: 4  train  loss: 0.00532\n",
      "qnn:epoch: 5  train  loss: 0.00233\n",
      "qnn:epoch: 6  train  loss: 0.00238\n",
      "qnn:epoch: 7  train  loss: 0.00420\n",
      "qnn:epoch: 8  train  loss: 0.00199\n",
      "qnn:epoch: 9  train  loss: 0.00212\n",
      "qnn:epoch: 10  train  loss: 0.00010\n"
     ]
    },
    {
     "data": {
      "image/png": "[encoded data removed]",
      "text/plain": [
       "<Figure size 432x288 with 1 Axes>"
      ]
     },
     "metadata": {
      "needs_background": "light"
     },
     "output_type": "display_data"
    }
   ],
   "source": [
    "def target_func(x):\n",
    "    return np.sin(x)\n",
    "x_train, y_train, x_test,y_test,x_plot, y_plot = get_data()\n",
    "SEED = 2\n",
    "Epoch = 10\n",
    "LR = 0.1\n",
    "train_block = 10\n",
    "bs = 16\n",
    "model, loss_list = train_qnn(x_train, y_train, train_block=train_block, LR=LR, Epoch=Epoch, SEED=SEED,BATCHSIZE=bs)\n",
    "predict = model(x_test)\n",
    "plt.plot(x_plot, y_plot, color=\"r\", ls=\"--\", lw=2.5, label=\"Target function\")\n",
    "plt.scatter(\n",
    "        x_test,\n",
    "        predict[0].numpy(),\n",
    "        s=40,\n",
    "        marker=\"^\",\n",
    "        facecolor=\"white\",\n",
    "        color=\"b\",\n",
    "        label=\"QNN\",\n",
    "    )\n",
    "plt.xlabel(r\"$x$\")\n",
    "plt.ylabel(r\"$f(x)$\")\n",
    "plt.xticks(fontsize=10)\n",
    "plt.yticks(fontsize=10)\n",
    "plt.legend()\n",
    "plt.show()"
   ]
  },
  {
   "cell_type": "markdown",
   "id": "f29b0f4b",
   "metadata": {},
   "source": [
    "Finally, $f(x)=e^x$"
   ]
  },
  {
   "cell_type": "code",
   "execution_count": 9,
   "id": "754c377c",
   "metadata": {},
   "outputs": [
    {
     "name": "stderr",
     "output_type": "stream",
     "text": [
      "C:\\Users\\ThinkPad\\AppData\\Roaming\\Python\\Python39\\site-packages\\paddle\\tensor\\creation.py:125: DeprecationWarning: `np.object` is a deprecated alias for the builtin `object`. To silence this warning, use `object` by itself. Doing this will not modify any behavior and is safe. \n",
      "Deprecated in NumPy 1.20; for more details and guidance: https://numpy.org/devdocs/release/1.20.0-notes.html#deprecations\n",
      "  if data.dtype == np.object:\n",
      "C:\\Users\\ThinkPad\\AppData\\Roaming\\Python\\Python39\\site-packages\\paddle\\fluid\\framework.py:1104: DeprecationWarning: `np.bool` is a deprecated alias for the builtin `bool`. To silence this warning, use `bool` by itself. Doing this will not modify any behavior and is safe. If you specifically wanted the numpy scalar type, use `np.bool_` here.\n",
      "Deprecated in NumPy 1.20; for more details and guidance: https://numpy.org/devdocs/release/1.20.0-notes.html#deprecations\n",
      "  elif dtype == np.bool:\n",
      "C:\\Users\\ThinkPad\\AppData\\Roaming\\Python\\Python39\\site-packages\\paddle\\fluid\\dygraph\\math_op_patch.py:276: UserWarning: The dtype of left and right variables are not the same, left dtype is paddle.float32, but right dtype is paddle.float64, the right dtype will convert to paddle.float32\n",
      "  warnings.warn(\n"
     ]
    },
    {
     "name": "stdout",
     "output_type": "stream",
     "text": [
      "qnn:epoch: 1  train  loss: 0.47626\n",
      "qnn:epoch: 2  train  loss: 0.11292\n",
      "qnn:epoch: 3  train  loss: 0.03071\n",
      "qnn:epoch: 4  train  loss: 0.01417\n",
      "qnn:epoch: 5  train  loss: 0.02957\n",
      "qnn:epoch: 6  train  loss: 0.00271\n",
      "qnn:epoch: 7  train  loss: 0.00695\n",
      "qnn:epoch: 8  train  loss: 0.03423\n",
      "qnn:epoch: 9  train  loss: 0.03588\n",
      "qnn:epoch: 10  train  loss: 0.00446\n"
     ]
    },
    {
     "data": {
      "image/png": "[encoded data removed]",
      "text/plain": [
       "<Figure size 432x288 with 1 Axes>"
      ]
     },
     "metadata": {
      "needs_background": "light"
     },
     "output_type": "display_data"
    }
   ],
   "source": [
    "def target_func(x):\n",
    "    return np.exp(x)\n",
    "x_train, y_train, x_test,y_test,x_plot, y_plot = get_data()\n",
    "SEED = 2\n",
    "Epoch = 10\n",
    "LR = 0.1\n",
    "train_block = 10\n",
    "bs = 16\n",
    "model, loss_list = train_qnn(x_train, y_train, train_block=train_block, LR=LR, Epoch=Epoch, SEED=SEED,BATCHSIZE=bs)\n",
    "predict = model(x_test)\n",
    "plt.plot(x_plot, y_plot, color=\"r\", ls=\"--\", lw=2.5, label=\"Target function\")\n",
    "plt.scatter(\n",
    "        x_test,\n",
    "        predict[0].numpy(),\n",
    "        s=40,\n",
    "        marker=\"^\",\n",
    "        facecolor=\"white\",\n",
    "        color=\"b\",\n",
    "        label=\"QNN\",\n",
    "    )\n",
    "plt.xlabel(r\"$x$\")\n",
    "plt.ylabel(r\"$f(x)$\")\n",
    "plt.xticks(fontsize=10)\n",
    "plt.yticks(fontsize=10)\n",
    "plt.legend()\n",
    "plt.show()"
   ]
  },
  {
   "cell_type": "code",
   "execution_count": null,
   "id": "8ab6d14f",
   "metadata": {},
   "outputs": [],
   "source": []
  }
 ],
 "metadata": {
  "kernelspec": {
   "display_name": "Python 3 (ipykernel)",
   "language": "python",
   "name": "python3"
  },
  "language_info": {
   "codemirror_mode": {
    "name": "ipython",
    "version": 3
   },
   "file_extension": ".py",
   "mimetype": "text/x-python",
   "name": "python",
   "nbconvert_exporter": "python",
   "pygments_lexer": "ipython3",
   "version": "3.9.13"
  }
 },
 "nbformat": 4,
 "nbformat_minor": 5
}
