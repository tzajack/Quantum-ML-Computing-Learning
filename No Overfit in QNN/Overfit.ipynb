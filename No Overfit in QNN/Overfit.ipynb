{
 "cells": [
  {
   "cell_type": "markdown",
   "id": "e29cbe38",
   "metadata": {},
   "source": [
    "#  Unitarity Avoids Overfitting\n",
    "\n",
    "This example is to show the power of overfit-proof of QNN.\n",
    "\n",
    "Classical method is the Lagrange interpolation of $f(x)=\\frac{1}{1+x^2}$ with $12$ equal spaced nodes.\n",
    "\n",
    "Plot the resultant polynomial with $24$ equal spaced nodes."
   ]
  },
  {
   "cell_type": "code",
   "execution_count": 1,
   "id": "0d370920",
   "metadata": {},
   "outputs": [],
   "source": [
    "import os\n",
    "os.environ['PROTOCOL_BUFFERS_PYTHON_IMPLEMENTATION'] = 'python'\n",
    "import warnings\n",
    "warnings.filterwarnings(\"ignore\")"
   ]
  },
  {
   "cell_type": "code",
   "execution_count": 2,
   "id": "88f2b4a4",
   "metadata": {},
   "outputs": [
    {
     "name": "stderr",
     "output_type": "stream",
     "text": [
      "C:\\Users\\ThinkPad\\AppData\\Roaming\\Python\\Python39\\site-packages\\urllib3\\util\\selectors.py:14: DeprecationWarning: Using or importing the ABCs from 'collections' instead of from 'collections.abc' is deprecated since Python 3.3, and in 3.10 it will stop working\n",
      "  from collections import namedtuple, Mapping\n",
      "C:\\Users\\ThinkPad\\AppData\\Roaming\\Python\\Python39\\site-packages\\urllib3\\_collections.py:2: DeprecationWarning: Using or importing the ABCs from 'collections' instead of from 'collections.abc' is deprecated since Python 3.3, and in 3.10 it will stop working\n",
      "  from collections import Mapping, MutableMapping\n",
      "C:\\Users\\ThinkPad\\AppData\\Roaming\\Python\\Python39\\site-packages\\openfermion\\hamiltonians\\hartree_fock.py:11: DeprecationWarning: Please use `OptimizeResult` from the `scipy.optimize` namespace, the `scipy.optimize.optimize` namespace is deprecated.\n",
      "  from scipy.optimize.optimize import OptimizeResult\n",
      "C:\\Users\\ThinkPad\\AppData\\Roaming\\Python\\Python39\\site-packages\\paddle\\tensor\\creation.py:125: DeprecationWarning: `np.object` is a deprecated alias for the builtin `object`. To silence this warning, use `object` by itself. Doing this will not modify any behavior and is safe. \n",
      "Deprecated in NumPy 1.20; for more details and guidance: https://numpy.org/devdocs/release/1.20.0-notes.html#deprecations\n",
      "  if data.dtype == np.object:\n"
     ]
    }
   ],
   "source": [
    "import paddle\n",
    "import numpy as np\n",
    "import paddle_quantum\n",
    "from paddle_quantum.ansatz import Circuit\n",
    "from paddle_quantum.hamiltonian import Hamiltonian\n",
    "from paddle_quantum.loss import ExpecVal\n",
    "import matplotlib.pyplot as plt\n",
    "import matplotlib\n",
    "\n",
    "paddle_quantum.set_backend(\"state_vector\")"
   ]
  },
  {
   "cell_type": "markdown",
   "id": "37f59219",
   "metadata": {},
   "source": [
    "Use the same QNN network from single qubit QNN"
   ]
  },
  {
   "cell_type": "code",
   "execution_count": 3,
   "id": "598c95b0",
   "metadata": {},
   "outputs": [],
   "source": [
    "def U_WZW(train_block, w_theta, x):\n",
    "    cir = Circuit(1)\n",
    "    #Add part of the circuit equivlant to the summation part \n",
    "    for i in range(train_block):\n",
    "        cir.rz(0, param=w_theta[i][1])\n",
    "        cir.ry(0, param=w_theta[i][0])\n",
    "        cir.rz(0, param=x) \n",
    "    #Add the first Ry,Rz\n",
    "    cir.rz(0, param=w_theta[-1][1])\n",
    "    cir.ry(0, param=w_theta[-1][0])\n",
    "    return cir"
   ]
  },
  {
   "cell_type": "code",
   "execution_count": 4,
   "id": "f27120f3",
   "metadata": {},
   "outputs": [],
   "source": [
    "class QNN(paddle.nn.Layer):\n",
    "    def __init__(self, \n",
    "                 train_block,          \n",
    "                 SEED=0,\n",
    "                 dtype='float64'):\n",
    "        super(QNN, self).__init__()\n",
    "        self.train_block = train_block\n",
    "        paddle.seed(SEED)\n",
    "        self.coeff  = self.create_parameter(\n",
    "            shape=[1],\n",
    "            default_initializer=paddle.nn.initializer.Normal(std=0.01),\n",
    "            dtype='float64',\n",
    "            is_bias=False)\n",
    "        self.w_theta = self.create_parameter(\n",
    "            shape=[(train_block+1), 2],\n",
    "            default_initializer=paddle.nn.initializer.Uniform(0.0, 2*np.pi),\n",
    "            dtype=dtype,\n",
    "            is_bias=False)\n",
    "\n",
    "\n",
    "    def forward(self, x):\n",
    "        predict = []\n",
    "        H = Hamiltonian([(1.0, \"z0\")])\n",
    "        out_func = ExpecVal(H)\n",
    "        x = paddle.to_tensor(x, dtype='float64')\n",
    "        if len(x.shape) == 1:  \n",
    "            x = x.reshape((-1, 1))\n",
    "        for i in range(x.shape[0]):\n",
    "            cir = U_WZW(self.train_block, self.w_theta, x[i])\n",
    "            out_state = cir()\n",
    "            out_val = out_func(out_state) \n",
    "            predict.append(out_val)\n",
    "        \n",
    "        return paddle.concat(predict).reshape((-1,)), cir"
   ]
  },
  {
   "cell_type": "code",
   "execution_count": 5,
   "id": "1fb2e934",
   "metadata": {},
   "outputs": [],
   "source": [
    "def train_qnn(x, y, train_block, LR , Epoch,SEED, BATCHSIZE):\n",
    "    model = QNN(train_block, SEED)\n",
    "    opt = paddle.optimizer.Adam(learning_rate=LR, parameters=model.parameters())\n",
    "    loss_list = []\n",
    "    x = paddle.to_tensor(x, dtype='float64')\n",
    "    y = paddle.to_tensor(y, dtype='float64')\n",
    "    for ep in range(1, Epoch + 1):\n",
    "        \n",
    "        for itr in range(len(x) // BATCHSIZE):\n",
    "            l = itr*BATCHSIZE\n",
    "            r = min( (itr + 1) * BATCHSIZE , len(x) )\n",
    "            x_batch = x[l:r]\n",
    "            y_batch = y[l:r]\n",
    "            predict, cir = model(x_batch)\n",
    "            avg_loss = paddle.mean((predict - y_batch) ** 2)\n",
    "            loss_list.append(avg_loss.numpy())\n",
    "            avg_loss.backward()\n",
    "            opt.minimize(avg_loss)\n",
    "            opt.clear_grad()\n",
    "        print(\"qnn:epoch:\", ep, \" train  loss:\", \"%.5f\" % avg_loss.numpy())\n",
    "        \n",
    "\n",
    "\n",
    "    return model, loss_list"
   ]
  },
  {
   "cell_type": "markdown",
   "id": "730292e2",
   "metadata": {},
   "source": [
    "Create data points with $12$ equal spaced nodes over $[-5,5]$"
   ]
  },
  {
   "cell_type": "code",
   "execution_count": 6,
   "id": "f54a2b63",
   "metadata": {},
   "outputs": [],
   "source": [
    "def target_func(x):\n",
    "    return 1/(x**2+1) \n",
    "\n",
    "\n",
    "def get_data():\n",
    "\n",
    "    x_all = np.arange(-5, 5, 10/12)\n",
    "\n",
    "    y_all = target_func(x_all)\n",
    "    \n",
    "    return x_all,y_all\n",
    "\n",
    "x_train, y_train = get_data()"
   ]
  },
  {
   "cell_type": "code",
   "execution_count": 7,
   "id": "9ad35ec2",
   "metadata": {},
   "outputs": [
    {
     "name": "stderr",
     "output_type": "stream",
     "text": [
      "C:\\Users\\ThinkPad\\AppData\\Roaming\\Python\\Python39\\site-packages\\paddle\\fluid\\framework.py:1104: DeprecationWarning: `np.bool` is a deprecated alias for the builtin `bool`. To silence this warning, use `bool` by itself. Doing this will not modify any behavior and is safe. If you specifically wanted the numpy scalar type, use `np.bool_` here.\n",
      "Deprecated in NumPy 1.20; for more details and guidance: https://numpy.org/devdocs/release/1.20.0-notes.html#deprecations\n",
      "  elif dtype == np.bool:\n"
     ]
    },
    {
     "name": "stdout",
     "output_type": "stream",
     "text": [
      "qnn:epoch: 1  train  loss: 0.24679\n",
      "qnn:epoch: 2  train  loss: 0.12251\n",
      "qnn:epoch: 3  train  loss: 0.04997\n",
      "qnn:epoch: 4  train  loss: 0.00959\n",
      "qnn:epoch: 5  train  loss: 0.00041\n",
      "qnn:epoch: 6  train  loss: 0.00023\n",
      "qnn:epoch: 7  train  loss: 0.00070\n",
      "qnn:epoch: 8  train  loss: 0.00073\n",
      "qnn:epoch: 9  train  loss: 0.00077\n",
      "qnn:epoch: 10  train  loss: 0.00074\n"
     ]
    }
   ],
   "source": [
    "SEED = 2\n",
    "Epoch = 10\n",
    "LR = 0.05\n",
    "train_block = 3\n",
    "bs = 1\n",
    "model, loss_list = train_qnn(x_train, y_train, train_block=train_block, LR=LR, Epoch=Epoch, SEED=SEED,BATCHSIZE=bs)"
   ]
  },
  {
   "cell_type": "code",
   "execution_count": 8,
   "id": "132bfa34",
   "metadata": {},
   "outputs": [
    {
     "data": {
      "image/png": "[encoded data removed]",
      "text/plain": [
       "<Figure size 432x288 with 1 Axes>"
      ]
     },
     "metadata": {
      "needs_background": "light"
     },
     "output_type": "display_data"
    }
   ],
   "source": [
    "plt.scatter(x_train, y_train, label=\"Target data point\")\n",
    "\n",
    "testrange = np.arange(-5,5,10/24)\n",
    "predict = model(testrange)\n",
    "\n",
    "plt.plot(testrange,predict[0].numpy(),color=\"r\",label=\"QNN\",)\n",
    "\n",
    "from scipy.interpolate import lagrange\n",
    "f = lagrange(x_train,y_train)\n",
    "\n",
    "plt.plot(testrange, f(testrange),color='g',label='Lagrange')\n",
    "\n",
    "\n",
    "plt.xlim(-5, 5)\n",
    "plt.ylim(-1, 1)\n",
    "plt.legend()\n",
    "plt.show()"
   ]
  },
  {
   "cell_type": "markdown",
   "id": "61f006f0",
   "metadata": {},
   "source": [
    "We can see that the Lagrange interpolation overfits, Runge's phenomenon appears.\n",
    "\n",
    "However, QNN does not overfit."
   ]
  }
 ],
 "metadata": {
  "kernelspec": {
   "display_name": "Python 3 (ipykernel)",
   "language": "python",
   "name": "python3"
  },
  "language_info": {
   "codemirror_mode": {
    "name": "ipython",
    "version": 3
   },
   "file_extension": ".py",
   "mimetype": "text/x-python",
   "name": "python",
   "nbconvert_exporter": "python",
   "pygments_lexer": "ipython3",
   "version": "3.9.13"
  }
 },
 "nbformat": 4,
 "nbformat_minor": 5
}
